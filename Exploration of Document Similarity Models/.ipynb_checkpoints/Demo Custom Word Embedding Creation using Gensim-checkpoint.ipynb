{
 "cells": [
  {
   "cell_type": "markdown",
   "metadata": {},
   "source": [
    "## Demo Custom Word Embedding Creation using Gensim"
   ]
  },
  {
   "cell_type": "markdown",
   "metadata": {},
   "source": [
    "### Imports"
   ]
  },
  {
   "cell_type": "code",
   "execution_count": 21,
   "metadata": {},
   "outputs": [],
   "source": [
    "from gensim.models import Word2Vec\n",
    "from gensim.parsing.preprocessing import (preprocess_string, strip_tags, \n",
    "    strip_punctuation, strip_multiple_whitespaces, strip_numeric, remove_stopwords)\n",
    "import pandas as pd\n",
    "import numpy as np\n",
    "import scipy\n",
    "from sklearn.manifold import TSNE"
   ]
  },
  {
   "cell_type": "markdown",
   "metadata": {},
   "source": [
    "### Constants and Variables"
   ]
  },
  {
   "cell_type": "code",
   "execution_count": 2,
   "metadata": {
    "collapsed": true
   },
   "outputs": [],
   "source": [
    "WORD_EMBEDDING_CACHE_PATH = r\"Model\\model.bin\"\n",
    "EMPLOYEE_DOCS_STORE_PATH = r'Data\\Employee_doc_store.csv'\n",
    "EMPLOYER_DOCS_STORE_PATH = r'Data\\Employer_doc_store.csv'\n",
    "CUSTOM_FILTERS = [lambda x: x.lower(), strip_tags, strip_punctuation, strip_multiple_whitespaces, \n",
    "                  strip_numeric, remove_stopwords]\n",
    "CACHED_DOC2VEC_MODEL = None\n",
    "SEED = 100"
   ]
  },
  {
   "cell_type": "markdown",
   "metadata": {},
   "source": [
    "### Get Employer and Employee Docs"
   ]
  },
  {
   "cell_type": "code",
   "execution_count": 3,
   "metadata": {
    "collapsed": true
   },
   "outputs": [],
   "source": [
    "df_employee_docs = pd.read_csv(EMPLOYEE_DOCS_STORE_PATH, encoding = \"ISO-8859-1\")\n",
    "df_employer_docs = pd.read_csv(EMPLOYER_DOCS_STORE_PATH, encoding = \"ISO-8859-1\")"
   ]
  },
  {
   "cell_type": "markdown",
   "metadata": {},
   "source": [
    "### Remove NaN rows from Docs"
   ]
  },
  {
   "cell_type": "code",
   "execution_count": 4,
   "metadata": {
    "collapsed": true
   },
   "outputs": [],
   "source": [
    "df_employee_docs_new = df_employee_docs.dropna()\n",
    "df_employer_docs_new = df_employer_docs.dropna()"
   ]
  },
  {
   "cell_type": "markdown",
   "metadata": {},
   "source": [
    "### Sample the Docs"
   ]
  },
  {
   "cell_type": "code",
   "execution_count": 5,
   "metadata": {},
   "outputs": [
    {
     "data": {
      "text/html": [
       "<div>\n",
       "<table border=\"1\" class=\"dataframe\">\n",
       "  <thead>\n",
       "    <tr style=\"text-align: right;\">\n",
       "      <th></th>\n",
       "      <th>Unnamed: 0</th>\n",
       "      <th>username</th>\n",
       "      <th>key_skills_doc</th>\n",
       "      <th>CV_details_doc</th>\n",
       "    </tr>\n",
       "  </thead>\n",
       "  <tbody>\n",
       "    <tr>\n",
       "      <th>0</th>\n",
       "      <td>0</td>\n",
       "      <td>vijaynair</td>\n",
       "      <td>PHP, HTML, CSS, JavaScript, jQuery, Oracle Dat...</td>\n",
       "      <td>Developing web sites, Testing applications Pro...</td>\n",
       "    </tr>\n",
       "    <tr>\n",
       "      <th>1</th>\n",
       "      <td>1</td>\n",
       "      <td>ram.rag1</td>\n",
       "      <td>Change Management, Change Management, Start-up...</td>\n",
       "      <td>It is our mission to empower leaders to put th...</td>\n",
       "    </tr>\n",
       "    <tr>\n",
       "      <th>3</th>\n",
       "      <td>3</td>\n",
       "      <td>adeidowu</td>\n",
       "      <td>Msc Finance</td>\n",
       "      <td>Computing and Finance</td>\n",
       "    </tr>\n",
       "    <tr>\n",
       "      <th>4</th>\n",
       "      <td>4</td>\n",
       "      <td>martin31robert</td>\n",
       "      <td>Training Design, Training Delivery, People Man...</td>\n",
       "      <td>Human Resources</td>\n",
       "    </tr>\n",
       "    <tr>\n",
       "      <th>5</th>\n",
       "      <td>5</td>\n",
       "      <td>joseph.martin</td>\n",
       "      <td>IT Infrastructure, Data Mining, Business Analy...</td>\n",
       "      <td>Computer Science</td>\n",
       "    </tr>\n",
       "  </tbody>\n",
       "</table>\n",
       "</div>"
      ],
      "text/plain": [
       "   Unnamed: 0        username  \\\n",
       "0           0       vijaynair   \n",
       "1           1        ram.rag1   \n",
       "3           3        adeidowu   \n",
       "4           4  martin31robert   \n",
       "5           5   joseph.martin   \n",
       "\n",
       "                                      key_skills_doc  \\\n",
       "0  PHP, HTML, CSS, JavaScript, jQuery, Oracle Dat...   \n",
       "1  Change Management, Change Management, Start-up...   \n",
       "3                                        Msc Finance   \n",
       "4  Training Design, Training Delivery, People Man...   \n",
       "5  IT Infrastructure, Data Mining, Business Analy...   \n",
       "\n",
       "                                      CV_details_doc  \n",
       "0  Developing web sites, Testing applications Pro...  \n",
       "1  It is our mission to empower leaders to put th...  \n",
       "3                              Computing and Finance  \n",
       "4                                    Human Resources  \n",
       "5                                   Computer Science  "
      ]
     },
     "execution_count": 5,
     "metadata": {},
     "output_type": "execute_result"
    }
   ],
   "source": [
    "df_employee_docs_new.head()"
   ]
  },
  {
   "cell_type": "code",
   "execution_count": 6,
   "metadata": {},
   "outputs": [
    {
     "data": {
      "text/html": [
       "<div>\n",
       "<table border=\"1\" class=\"dataframe\">\n",
       "  <thead>\n",
       "    <tr style=\"text-align: right;\">\n",
       "      <th></th>\n",
       "      <th>Unnamed: 0</th>\n",
       "      <th>employer_user_name</th>\n",
       "      <th>vacancy_id</th>\n",
       "      <th>key_skills_doc</th>\n",
       "      <th>CV_details_doc</th>\n",
       "    </tr>\n",
       "  </thead>\n",
       "  <tbody>\n",
       "    <tr>\n",
       "      <th>0</th>\n",
       "      <td>0</td>\n",
       "      <td>vijayadmin</td>\n",
       "      <td>31</td>\n",
       "      <td>CA, ICWA, MBA  Accounting degree</td>\n",
       "      <td>We  are searching to fill 10 positions in acco...</td>\n",
       "    </tr>\n",
       "  </tbody>\n",
       "</table>\n",
       "</div>"
      ],
      "text/plain": [
       "   Unnamed: 0 employer_user_name  vacancy_id  \\\n",
       "0           0         vijayadmin          31   \n",
       "\n",
       "                     key_skills_doc  \\\n",
       "0  CA, ICWA, MBA  Accounting degree   \n",
       "\n",
       "                                      CV_details_doc  \n",
       "0  We  are searching to fill 10 positions in acco...  "
      ]
     },
     "execution_count": 6,
     "metadata": {},
     "output_type": "execute_result"
    }
   ],
   "source": [
    "df_employer_docs_new"
   ]
  },
  {
   "cell_type": "markdown",
   "metadata": {},
   "source": [
    "### Convert Docs into list of list of strings"
   ]
  },
  {
   "cell_type": "code",
   "execution_count": 7,
   "metadata": {
    "collapsed": true
   },
   "outputs": [],
   "source": [
    "employee_docs = df_employee_docs_new.CV_details_doc.tolist()\n",
    "employer_docs = df_employer_docs_new.CV_details_doc.tolist()"
   ]
  },
  {
   "cell_type": "markdown",
   "metadata": {},
   "source": [
    "### Apply some NLP preprocessing to clean the docs"
   ]
  },
  {
   "cell_type": "code",
   "execution_count": 8,
   "metadata": {
    "collapsed": true
   },
   "outputs": [],
   "source": [
    "employee_docs_clean = [preprocess_string(doc, CUSTOM_FILTERS) for doc in employee_docs]\n",
    "employer_docs_clean = [preprocess_string(doc, CUSTOM_FILTERS) for doc in employer_docs]"
   ]
  },
  {
   "cell_type": "markdown",
   "metadata": {},
   "source": [
    "### Sample cleaned Docs"
   ]
  },
  {
   "cell_type": "code",
   "execution_count": 9,
   "metadata": {},
   "outputs": [
    {
     "data": {
      "text/plain": [
       "['developing',\n",
       " 'web',\n",
       " 'sites',\n",
       " 'testing',\n",
       " 'applications',\n",
       " 'programmer',\n",
       " 'application',\n",
       " 'tester',\n",
       " 'testing',\n",
       " 'references',\n",
       " 'commerce',\n",
       " 'costing']"
      ]
     },
     "execution_count": 9,
     "metadata": {},
     "output_type": "execute_result"
    }
   ],
   "source": [
    "employee_docs_clean[0]"
   ]
  },
  {
   "cell_type": "code",
   "execution_count": 10,
   "metadata": {},
   "outputs": [
    {
     "data": {
      "text/plain": [
       "['searching',\n",
       " 'positions',\n",
       " 'accounts',\n",
       " 'section',\n",
       " 'senior',\n",
       " 'manager',\n",
       " 'managers',\n",
       " 'assistant',\n",
       " 'managers',\n",
       " 'varying',\n",
       " 'levels',\n",
       " 'experience',\n",
       " 'ranging',\n",
       " 'years',\n",
       " 'accounts',\n",
       " 'department',\n",
       " 'reputed',\n",
       " 'organisation']"
      ]
     },
     "execution_count": 10,
     "metadata": {},
     "output_type": "execute_result"
    }
   ],
   "source": [
    "employer_docs_clean[0]"
   ]
  },
  {
   "cell_type": "markdown",
   "metadata": {},
   "source": [
    "### Concatenate the Employee and Employer Docs\n",
    "- This will be used to build a combined word embedding"
   ]
  },
  {
   "cell_type": "code",
   "execution_count": 11,
   "metadata": {
    "collapsed": true
   },
   "outputs": [],
   "source": [
    "train_docs = employee_docs_clean + employer_docs_clean"
   ]
  },
  {
   "cell_type": "markdown",
   "metadata": {},
   "source": [
    "### Word Embedding Process"
   ]
  },
  {
   "cell_type": "code",
   "execution_count": 12,
   "metadata": {},
   "outputs": [
    {
     "name": "stdout",
     "output_type": "stream",
     "text": [
      "Word Embedding Model is:\n",
      "Word2Vec(vocab=440, size=100, alpha=0.025)\n",
      "\n",
      "\n",
      "Word Embedding vocabulary is:\n",
      "['create', 'srilanka', 'theory', 'struck', 'primarily', 'testing', 'driving', 'resources', 'design', 'dipstick', 'commodities', 'discovery', 'clarity', 'natural', 'computing', 'impressive', 'exact', 'heart', 'nature', 'issues', 'approach', 'senior', 'south', 'understanding', 'achieve', 'company', 'specific', 'defined', 'chance', 'ram', 'organisational', 'excellent', 'tester', 'riddlebox', 'awareness', 'combine', 'feedback', 'correlated', 'analyst', 'programme', 'need', 'valid', 'valuation', 'felt', 'erp', 'management', 'people', 'employees', 'deal', 'raghvan', 'electricity', 'field', 'relationship', 'beneficial', 'researched', 'solve', 'deliberate', 'play', 'strategist', 'links', 'deep', 'contact', 'otc', 'handle', 'enhance', 'quickly', 'understood', 'realised', 'team', 'presentation', 'suspicious', 'ccr', 'reputed', 'allocation', 'potential', 'projects', 'rate', 'developing', 'rare', 'rapid', 'clearing', 'flair', 'energy', 'confidence', 'assimilate', 'enables', 'r', 'commerce', 'applications', 'acknowledge', 'years', 'unexpected', '\\x95good', 'risk', 'nepal', 'process', 'award', 'digital', 'business', 'change', 'strategic', 'derivatives', 'foster', 'relevant', 'telecoms', 'department', 'knowledge', 'measures', 'set', 'range', 'frtb', 'customers', 'check', 'behavior', 'accountability', 'iii', 'attribute', 'success', 'came', 'bhutan', 'allow', 'counterparty', 'collateral', 'develop', 'commercial', 'game', 'real', 'technology', 'operations', 'outputs', 'maintainged', 'businesess', 'empower', 'self', 'sensitivity', 'thinking', 'personal', 'pricing', 'group', 'capacities', 'stress', 'express', 'extraordinary', 'like', 'responsible', 'references', 'index', 'milestones', 'joining', 'dodd', 'engineer', 'certified', 'xml', 'pfe', 'simulation', 'manchester', 'asp', 'firstly', 'clients', 'great', 'pleasantly', 'calculated', 'contribute', 'time', 'broad', 'mission', 'mean', 'organisation', 'ir', 'c', 'pursued', 'useful', 'sustainable', 'application', 'engaged', 'areas', 'assert', 'ongoing', 'finance', 'ensure', 'met', 'evaluation', 'build', 'enabled', 'responsibility', 'mind', 'searching', 'breaking', 'professional', 'lead', 'special', 'systems', 'communication', 'respect', 'use', 'properietary', 'things', 'swap', 'implemented', 'fulfillment', 'priveleged', 'var', 'thinker', 'context', 'providing', 'shelf', 'lasting', 'able', 'ability', 'handled', 'flawlessly', 'outcome', 'appeal', 'started', 'authentic', 'steps', 'delhi', 'strategy', 'panache', 'want', 'program', 'states', 'effectively', 'fras', 'hardware', 'spheres', 'wide', 'progress', 'realistic', 'costing', 'staff', 'advice', 'pre', 'officer', 'products', 'career', 'impressed', '\\x96', 'cross', 'expertise', 'led', 'insightful', 'thoroughly', 'leaders', 'excel', 'positions', 'html', 'cautious', 'characteristics', 'approaches', 'having', 'board', 'varying', 'performance', 'chosen', 'frank', 'helps', 'agree', 'abilities', 'carefully', 'ccp', 'lacking', 'precious', 'technical', '\\x95experience', 'covering', 'needed', 'reveal', 'saw', 'human', 'aims', 'recommend', 'massive', 'activity', 'journey', 'problem', '\\x95', 'campus', 'scholarship', 'best', 'rwa', 'secure', 'debate', 'profits', 'talengene', 'leadership', 'credit', 'mentored', 'companies', 'school', 'ways', 'metals', 'clear', 'mba', 'single', 'delegates', 'results', 'india', 'gas', 'managing', 'thorough', 'won', 'carlo', 'structure', 'methodology', 'science', 'service', 'impact', 'bridge', 'personnel', 'leader', 'achieved', 'shows', 'government', 'sounding', 'communicate', 'listen', 'asset', 'achievements', 'clearly', 'forward', 'knew', 'students', 'unflinching', 'order', 'teams', 'working', 'help', 'provided', 'looking', 'way', 'section', 'programmer', 'good', 'monte', 'subsequently', 'know', 'electronics', 'director', 'benefit', 'enormously', 'manager', 'epe', 'result', 'skill', 'web', 'exercise', 'network', 'psychologist', 'mutually', 'feeling', 'manipulative', 'assistant', 'vba', 'score', 'sql', 'completed', 'problems', 'flexibility', 'office', 'helping', 'ee', 'rbx', 'equity', 'creative', 'ranging', 'base', 'concepts', 'information', 'founder', 'java', 'academically', 'sites', 'true', 'support', 'imm', 'recent', 'practice', 'options', 'believe', 'sense', 'doctoral', 'experience', 'applause', 'equities', 'robotics', 'work', 'moved', 'ground', 'actually', 'bring', 'rapidly', 'rarer', 'levels', 'focus', 'solutions', 'peers', 'measurement', 'software', 'class', 'managers', 'multiple', 'contacts', 'development', 'aware', 'capital', 'act', 'measure', 'fx', 'aptitude', 'session', 'ordained', 'talent', 'project', 'addition', 'basel', 'engage', 'sales', '\\x95it', 'rigour', 'student', 'managed', 'characteristic', '\\x95garp', 'ms', 'important', 'state', 'maldives', 'tools', 'phd', 'generate', 'motivate', 'attributes', 'world', 'based', 'accounts', 'attending', 'gap', 'number', 'listener']\n",
      "\n",
      "\n",
      "Word Embedding Vector for the word 'manager' is\n",
      "[-2.3220005e-03 -4.2468097e-04  4.1619255e-03  3.9478596e-03\n",
      "  4.8211105e-03  4.6230727e-03  2.8842282e-03  2.7959468e-03\n",
      " -4.2605773e-03  1.6425714e-03  1.4796513e-03 -1.6114641e-03\n",
      "  4.4917222e-04  3.5564816e-03 -4.4844020e-03 -2.7484593e-03\n",
      " -3.8267525e-03  1.4664239e-03  4.4283047e-03 -1.9445906e-03\n",
      "  2.8984274e-03 -4.6262378e-03  3.4857483e-03  2.6826498e-03\n",
      " -1.7861454e-03  2.0573039e-03  3.8515774e-03 -3.6301545e-03\n",
      " -4.9172691e-03 -1.8533447e-03  4.6367943e-03  4.3005222e-03\n",
      "  3.1958246e-03  2.8579431e-03  2.7186780e-03 -4.2272308e-03\n",
      "  4.0621851e-03  4.6479664e-04  1.2246649e-03  2.9229957e-03\n",
      " -4.9555758e-03  3.1377047e-03 -4.0382468e-03 -3.5526289e-04\n",
      "  3.9861188e-03 -2.7505197e-03  1.1420355e-03 -2.5066239e-04\n",
      " -3.1139378e-03 -2.8797837e-03 -1.8156178e-03 -2.8888618e-03\n",
      " -1.7096640e-03 -2.2316840e-03  2.0427373e-03 -4.1809632e-03\n",
      " -1.4340346e-03 -3.0572549e-03  7.3774287e-04  7.4695301e-04\n",
      " -2.1593545e-03  4.4461558e-04  3.9254893e-03  5.9381285e-04\n",
      " -6.6432945e-06  4.5451042e-03 -4.6665883e-03 -4.8086657e-03\n",
      "  3.1816927e-03 -1.0174181e-03 -3.2633611e-03 -8.4772830e-05\n",
      " -4.2589526e-03  1.1526821e-03  1.5250442e-03 -1.2678615e-03\n",
      " -2.7272832e-03  7.5804529e-04 -3.8818899e-03 -3.1794442e-04\n",
      " -2.7694907e-03 -2.9346279e-03 -3.5415001e-03  1.2937908e-03\n",
      "  5.0264894e-04 -4.7755302e-03  4.0536770e-03 -2.3048045e-03\n",
      "  2.7765417e-03  1.3088294e-03 -1.5680613e-03 -6.7636045e-04\n",
      " -2.1089476e-03  3.4822463e-03 -1.2352765e-03 -2.6736921e-04\n",
      "  3.5919796e-03 -4.4710147e-03 -3.6082207e-03 -3.1444824e-03]\n",
      "\n",
      "\n",
      "Word2Vec(vocab=440, size=100, alpha=0.025)\n"
     ]
    },
    {
     "name": "stderr",
     "output_type": "stream",
     "text": [
      "C:\\Users\\Diamond\\Anaconda2\\envs\\tensorFlow-py35\\lib\\site-packages\\ipykernel_launcher.py:10: DeprecationWarning: Call to deprecated `__getitem__` (Method will be removed in 4.0.0, use self.wv.__getitem__() instead).\n",
      "  # Remove the CWD from sys.path while we load stuff.\n"
     ]
    }
   ],
   "source": [
    "# train model\n",
    "model = Word2Vec(train_docs, min_count=1)\n",
    "# summarize the loaded model\n",
    "print(\"Word Embedding Model is:\\n{}\\n\\n\".format(model))\n",
    "# summarize vocabulary\n",
    "words = list(model.wv.vocab)\n",
    "print(\"Word Embedding vocabulary is:\\n{}\\n\\n\".format(words))\n",
    "\n",
    "# access vector for one word\n",
    "print(\"Word Embedding Vector for the word 'manager' is\\n{}\\n\\n\".format(model['manager']))\n",
    "# save model\n",
    "model.save(WORD_EMBEDDING_CACHE_PATH)\n",
    "# load model\n",
    "new_model = Word2Vec.load(WORD_EMBEDDING_CACHE_PATH)\n",
    "print(new_model)"
   ]
  },
  {
   "cell_type": "markdown",
   "metadata": {},
   "source": [
    "### Define the Cosine Similarity Measure b/w 2 docs"
   ]
  },
  {
   "cell_type": "code",
   "execution_count": 13,
   "metadata": {
    "collapsed": true
   },
   "outputs": [],
   "source": [
    "test_docs = employee_docs_clean[:5]\n",
    "ref_doc = employer_docs_clean[0]"
   ]
  },
  {
   "cell_type": "code",
   "execution_count": 14,
   "metadata": {
    "collapsed": true
   },
   "outputs": [],
   "source": [
    "def computeCosineSimilaritymeasure(s1, s2):    \n",
    "    print(\"s1:\\n{}\\n\".format(s1))\n",
    "    print(\"s2:\\n{}\\n\".format(s2))\n",
    "    vector_1 = np.mean([new_model[word] for word in s1],axis=0)\n",
    "    vector_2 = np.mean([new_model[word] for word in s2],axis=0)\n",
    "    #print(\"vector_1.shape:{0}, vector_2.shape{1}\".format(vector_1.shape, vector_2.shape))\n",
    "    cosine = scipy.spatial.distance.cosine(vector_1, vector_2)\n",
    "    percent_similarity_measure = round((1-cosine)*100.0,2)\n",
    "    print(\"Word Embedding similarity b/w two sentences is: {}\\n\\n\".format(percent_similarity_measure))\n",
    "    return percent_similarity_measure\n",
    "\n",
    "def computeCosineSimilarityForDocs(test_docs, ref_doc):\n",
    "    similarity_measures = []\n",
    "    for test_doc in test_docs:\n",
    "        similarity_measure = computeCosineSimilaritymeasure(ref_doc, test_doc)\n",
    "        similarity_measures.append(similarity_measure)\n",
    "    return similarity_measures"
   ]
  },
  {
   "cell_type": "code",
   "execution_count": 15,
   "metadata": {},
   "outputs": [
    {
     "name": "stdout",
     "output_type": "stream",
     "text": [
      "s1:\n",
      "['searching', 'positions', 'accounts', 'section', 'senior', 'manager', 'managers', 'assistant', 'managers', 'varying', 'levels', 'experience', 'ranging', 'years', 'accounts', 'department', 'reputed', 'organisation']\n",
      "\n",
      "s2:\n",
      "['developing', 'web', 'sites', 'testing', 'applications', 'programmer', 'application', 'tester', 'testing', 'references', 'commerce', 'costing']\n",
      "\n",
      "Word Embedding similarity b/w two sentences is: 1.02\n",
      "\n",
      "\n",
      "s1:\n",
      "['searching', 'positions', 'accounts', 'section', 'senior', 'manager', 'managers', 'assistant', 'managers', 'varying', 'levels', 'experience', 'ranging', 'years', 'accounts', 'department', 'reputed', 'organisation']\n",
      "\n",
      "s2:\n",
      "['mission', 'empower', 'leaders', 'people', 'profits', 'confidence', 'true', 'personal', 'fulfillment', 'lasting', 'commercial', 'success', 'realised', '\\x96', 'leader', 'important', 'single', 'asset', 'organisation', 'ground', 'breaking', 'self', 'service', 'digital', 'tools', 'allow', 'leaders', 'measure', 'team', 'feeling', 'generate', 'personal', 'leadership', 'score', '\\x96', 'rbx', 'index', '\\x96', 'correlated', 'personal', 'organisational', 'performance', 'helping', 'businesess', 'achieve', 'extraordinary', 'sustainable', 'performance', 'primarily', 'focus', 'areas', 'strategy', 'employees', 'customers', 'use', 'set', 'properietary', 'tools', 'help', 'companies', 'develop', 'strategy', 'clearly', 'defined', 'thoroughly', 'understood', 'employees', 'flawlessly', 'implemented', 'approach', 'helps', 'companies', 'bridge', 'gap', 'companies', 'want', 'achieve', 'employees', 'customers', 'achieved', 'use', 'dipstick', 'evaluation', 'reveal', 'problem', 'result', 'create', 'awareness', 'clients', 'clients', 'journey', 'self', 'discovery', 'enables', 'reveal', 'exact', 'nature', 'problems', 'impact', 'performance', 'engage', 'motivate', 'acknowledge', 'need', 'change', 'responsibility', 'work', 'develop', 'solutions', 'achieve', 'milestones', 'want', 'achieve', 'help', 'ongoing', 'measures', 'ensure', 'progress', 'enhance', 'accountability', 'started', 'career', 'service', 'engineer', 'moved', 'handle', 'sales', 'service', 'responsibility', 'state', 'won', 'best', 'sales', 'engineer', 'award', 'subsequently', 'responsible', 'sales', 'service', 'states', 'south', 'india', 'managed', 'secure', 'massive', 'order', 'government', 'subsequently', 'moved', 'delhi', 'handled', 'operations', 'india', 'srilanka', 'nepal', 'maldives', 'bhutan', 'telecoms', 'engineer', 'design', 'development', 'hardware', 'software', 'systems', 'founder', 'managing', 'director', 'manager', 'engineer', 'ram', 'good', 'listener', 'thinker', 'strategist', 'shows', 'respect', 'heart', 'carefully', 'listen', 'deep', 'understanding', 'human', 'nature', 'way', 'thinking', 'believe', 'led', 'recent', 'development', 'theory', 'human', 'abilities', 'behavior', 'psychologist', 'applause', 'work', 'achievements', 'know', 'ram', 'thorough', 'professional', 'unflinching', 'focus', 'driving', 'results', 'great', 'technical', 'expertise', 'managed', 'service', 'support', 'network', 'effectively', 'met', 'ram', 'raghvan', 'attending', 'manchester', 'business', 'school', 'phd', 'ram', 'struck', 'special', 'number', 'ways', 'academically', 'impressive', 'capacities', 'firstly', 'clear', 'rate', 'mind', 'clarity', 'flexibility', 'experience', 'having', 'completed', 'mba', 'programme', 'joining', 'doctoral', 'programme', 'enabled', 'things', 'number', 'ways', 'express', 'clearly', 'benefit', 'lacking', 'experience', 'attribute', 'academically', 'came', 'experience', 'real', 'world', 'ability', 'combine', 'business', 'relevant', 'class', 'scholarship', 'rare', 'ram', 'rarer', 'characteristic', 'able', 'communicate', 'spheres', 'maintainged', 'links', 'ram', 'pursued', 'talengene', 'project', 'felt', 'priveleged', 'act', 'sounding', 'board', 'work', 'potential', 'addition', 'deliberate', 'steps', 'foster', 'contacts', 'work', 'ram', 'potential', 'contribute', 'enormously', 'chosen', 'field', 'ram', 'broad', 'range', 'personal', 'attributes', 'characteristics', 'allow', 'broad', 'deep', 'time', 'assert', 'working', 'relationship', 'excellent', 'chance', 'mutually', 'beneficial', 'ram', 'ability', 'assimilate', 'business', 'issues', 'quickly', 'rapid', 'insightful', 'clear', 'feedback', 'impressed', 'saw', 'riddlebox', 'presentation', 'group', 'senior', 'managers', 'felt', 'authentic', 'business', 'strategy', 'session', 'manipulative', 'exercise', 'delegates', 'agree', 'pre', 'ordained', 'outcome', 'shelf', 'team', 'build', 'activity', 'managers', 'cautious', 'suspicious', 'rapidly', 'engaged', 'process', 'game', 'provided', 'rigour', 'structure', 'debate', 'real', 'business', 'issues', 'context', 'strategic', 'aims', 'approaches', 'valid', 'realistic', 'outputs', 'felt', 'riddlebox', 'potential', 'wide', 'appeal', 'ram', 'able', 'bring', 'specific', 'company', 'issues', 'play', 'debate', 'ram', 'creative', 'mind', 'able', 'solve', 'problems', 'pleasantly', 'unexpected', 'ways', 'panache', 'flair', 'campus', 'manchester', 'business', 'school', 'knew', 'ram', 'mba', 'student', 'people', 'contact', 'needed', 'advice', 'information', 'ram', 'mentored', 'peers', 'providing', 'students', 'staff', 'useful', 'information', 'natural', 'sense', 'aptitude', 'talent', 'knowledge', 'management', 'aware', 'concepts', 'actually', 'mean', 'practice', 'researched', 'phd', 'recommend', 'ram', 'company', 'looking', 'creative', 'solutions', 'human', 'capital', 'measurement', 'strategy', 'robotics', 'electronics', 'communication', 'personnel', 'management']\n",
      "\n",
      "Word Embedding similarity b/w two sentences is: 7.65\n",
      "\n",
      "\n",
      "s1:\n",
      "['searching', 'positions', 'accounts', 'section', 'senior', 'manager', 'managers', 'assistant', 'managers', 'varying', 'levels', 'experience', 'ranging', 'years', 'accounts', 'department', 'reputed', 'organisation']\n",
      "\n",
      "s2:\n",
      "['computing', 'finance']\n",
      "\n",
      "Word Embedding similarity b/w two sentences is: -3.34\n",
      "\n",
      "\n",
      "s1:\n",
      "['searching', 'positions', 'accounts', 'section', 'senior', 'manager', 'managers', 'assistant', 'managers', 'varying', 'levels', 'experience', 'ranging', 'years', 'accounts', 'department', 'reputed', 'organisation']\n",
      "\n",
      "s2:\n",
      "['human', 'resources']\n",
      "\n",
      "Word Embedding similarity b/w two sentences is: 9.41\n",
      "\n",
      "\n",
      "s1:\n",
      "['searching', 'positions', 'accounts', 'section', 'senior', 'manager', 'managers', 'assistant', 'managers', 'varying', 'levels', 'experience', 'ranging', 'years', 'accounts', 'department', 'reputed', 'organisation']\n",
      "\n",
      "s2:\n",
      "['science']\n",
      "\n",
      "Word Embedding similarity b/w two sentences is: 15.35\n",
      "\n",
      "\n"
     ]
    },
    {
     "name": "stderr",
     "output_type": "stream",
     "text": [
      "C:\\Users\\Diamond\\Anaconda2\\envs\\tensorFlow-py35\\lib\\site-packages\\ipykernel_launcher.py:4: DeprecationWarning: Call to deprecated `__getitem__` (Method will be removed in 4.0.0, use self.wv.__getitem__() instead).\n",
      "  after removing the cwd from sys.path.\n",
      "C:\\Users\\Diamond\\Anaconda2\\envs\\tensorFlow-py35\\lib\\site-packages\\ipykernel_launcher.py:5: DeprecationWarning: Call to deprecated `__getitem__` (Method will be removed in 4.0.0, use self.wv.__getitem__() instead).\n",
      "  \"\"\"\n"
     ]
    }
   ],
   "source": [
    "#sim_measures = computeCosineSimilarityForDocs(test_docs, ref_doc)\n",
    "#test_docs = [ref_doc]\n",
    "sim_measures = computeCosineSimilarityForDocs(test_docs, ref_doc)\n"
   ]
  },
  {
   "cell_type": "markdown",
   "metadata": {
    "collapsed": true
   },
   "source": [
    "### Visualize Similarity between the Documents\n",
    "- Using T-distribution Stochastic Neigbourhood Embedding with PCA"
   ]
  },
  {
   "cell_type": "markdown",
   "metadata": {},
   "source": [
    "### Build the label and 2D - spacial datasets"
   ]
  },
  {
   "cell_type": "code",
   "execution_count": 25,
   "metadata": {},
   "outputs": [
    {
     "name": "stderr",
     "output_type": "stream",
     "text": [
      "C:\\Users\\Diamond\\Anaconda2\\envs\\tensorFlow-py35\\lib\\site-packages\\ipykernel_launcher.py:2: DeprecationWarning: Call to deprecated `__getitem__` (Method will be removed in 4.0.0, use self.wv.__getitem__() instead).\n",
      "  \n",
      "C:\\Users\\Diamond\\Anaconda2\\envs\\tensorFlow-py35\\lib\\site-packages\\ipykernel_launcher.py:3: DeprecationWarning: Call to deprecated `__getitem__` (Method will be removed in 4.0.0, use self.wv.__getitem__() instead).\n",
      "  This is separate from the ipykernel package so we can avoid doing imports until\n"
     ]
    },
    {
     "name": "stdout",
     "output_type": "stream",
     "text": [
      "doc_1_vec.shape: (12, 100)\n",
      "doc_2_vec.shape: (18, 100)\n",
      "doc_all_vec.shape: (30, 100)\n",
      "doc_1_vec_2d.shape: (12, 2)\n",
      "doc_2_vec_2d.shape: (18, 2)\n",
      "doc_all_vec_2d.shape: (30, 2)\n"
     ]
    }
   ],
   "source": [
    "def computeLabelAnd2DSpacialDatasets(doc_1, doc_2):    \n",
    "    doc_1_vec = np.array([new_model[word] for word in doc_1])\n",
    "    doc_2_vec = np.array([new_model[word] for word in doc_2])\n",
    "    doc_all_vec = np.vstack((doc_1_vec, doc_2_vec))\n",
    "    n_doc_1_tokens = doc_1_vec.shape[0]\n",
    "    n_doc_2_tokens = doc_2_vec.shape[0]\n",
    "    n_doc_all_tokens = doc_all_vec.shape[0]\n",
    "    doc_all_vec = np.vstack((doc_1_vec, doc_2_vec))\n",
    "    print('doc_1_vec.shape: {}'.format(doc_1_vec.shape))\n",
    "    print('doc_2_vec.shape: {}'.format(doc_2_vec.shape))\n",
    "    print('doc_all_vec.shape: {}'.format(doc_all_vec.shape))\n",
    "    \n",
    "    tsne_model = TSNE(perplexity=40, n_components=2, init='pca', n_iter=2500)\n",
    "    doc_all_vec_2d = tsne_model.fit_transform(doc_all_vec)\n",
    "    doc_1_vec_2d = doc_all_vec_2d[:n_doc_1_tokens]\n",
    "    doc_2_vec_2d = doc_all_vec_2d[n_doc_1_tokens:n_doc_all_tokens]\n",
    "    print('doc_1_vec_2d.shape: {}'.format(doc_1_vec_2d.shape))\n",
    "    print('doc_2_vec_2d.shape: {}'.format(doc_2_vec_2d.shape))\n",
    "    print('doc_all_vec_2d.shape: {}'.format(doc_all_vec_2d.shape))\n",
    "\n",
    "\n",
    "doc_1 = test_docs[0]\n",
    "doc_2 = ref_doc\n",
    "computeLabelAnd2DSpacialDatasets(doc_1, doc_2)"
   ]
  },
  {
   "cell_type": "code",
   "execution_count": null,
   "metadata": {
    "collapsed": true
   },
   "outputs": [],
   "source": []
  },
  {
   "cell_type": "code",
   "execution_count": 16,
   "metadata": {
    "collapsed": true
   },
   "outputs": [],
   "source": [
    "import numpy as np\n",
    "a = np.array([10,20, 30, 40])\n",
    "b = np.array([15,25,35,45])\n",
    "c = np.vstack((a,b))"
   ]
  },
  {
   "cell_type": "code",
   "execution_count": 17,
   "metadata": {},
   "outputs": [
    {
     "data": {
      "text/plain": [
       "array([12.5, 22.5, 32.5, 42.5])"
      ]
     },
     "execution_count": 17,
     "metadata": {},
     "output_type": "execute_result"
    }
   ],
   "source": [
    "c_mean = np.mean(c, axis=0)\n",
    "c_mean"
   ]
  },
  {
   "cell_type": "code",
   "execution_count": null,
   "metadata": {
    "collapsed": true
   },
   "outputs": [],
   "source": []
  }
 ],
 "metadata": {
  "kernelspec": {
   "display_name": "Python 3",
   "language": "python",
   "name": "python3"
  },
  "language_info": {
   "codemirror_mode": {
    "name": "ipython",
    "version": 3
   },
   "file_extension": ".py",
   "mimetype": "text/x-python",
   "name": "python",
   "nbconvert_exporter": "python",
   "pygments_lexer": "ipython3",
   "version": "3.5.5"
  }
 },
 "nbformat": 4,
 "nbformat_minor": 2
}
