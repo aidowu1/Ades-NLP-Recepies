{
 "cells": [
  {
   "cell_type": "markdown",
   "metadata": {},
   "source": [
    "## Document Similarity Problem Specifications"
   ]
  },
  {
   "cell_type": "markdown",
   "metadata": {},
   "source": [
    "## Imports"
   ]
  },
  {
   "cell_type": "code",
   "execution_count": 3,
   "metadata": {
    "collapsed": true
   },
   "outputs": [],
   "source": [
    "import pandas as pd\n",
    "import numpy as np\n",
    "import os\n",
    "import GenericDataSerializerComponent as s"
   ]
  },
  {
   "cell_type": "markdown",
   "metadata": {},
   "source": [
    "### Specify contants and variables"
   ]
  },
  {
   "cell_type": "code",
   "execution_count": 5,
   "metadata": {},
   "outputs": [],
   "source": [
    "DATA_ROOT_PATH = 'Data'\n",
    "TALENT36T_VACANCY_ID_36_DATA = [os.path.join(DATA_ROOT_PATH, 'Employee_doc_store.csv'),\n",
    "                                os.path.join(DATA_ROOT_PATH, 'Employer_doc_store.csv')]\n",
    "SAMPLE_PROBLEM_DATASET_PATHS = {\n",
    "                    'Toy_Problem':os.path.join(DATA_ROOT_PATH, 'Book_List_Dataset.pl'),\n",
    "                    'Talent36T':TALENT36T_VACANCY_ID_36_DATA    \n",
    "                }"
   ]
  },
  {
   "cell_type": "code",
   "execution_count": 8,
   "metadata": {
    "collapsed": true
   },
   "outputs": [],
   "source": [
    "class ToyProblem(object):\n",
    "    def __init__(self):\n",
    "        self.__num_docs = -1\n",
    "    \n",
    "    def getCorpus(self):\n",
    "        \"\"\"\n",
    "        Get the corpus data for this problem\n",
    "        \"\"\"\n",
    "        toy_problem_data = s.GenericDataSerializer.deSerializeCache(SAMPLE_PROBLEM_DATASET_PATHS['Toy_Problem'])\n",
    "        self.__num_docs = len(toy_problem_data)\n",
    "        print(\"Number of rows for the Toy Problem data are: {}\".format(self.__num_docs))\n",
    "        return toy_problem_data\n",
    "    \n",
    "    def createLowerTriangular(self):\n",
    "        \"\"\"\n",
    "        Create triangular matrix indices pairs for the similarity measure\n",
    "        \"\"\"\n",
    "        matrix = np.zeros((self.__num_docs, self.__num_docs))\n",
    "        indices = np.tril_indices_from(matrix)\n",
    "        n_rows = indices[0].shape[0]\n",
    "        pairs = [(indices[0][i], indices[1][i]) for i in range(n_rows) if not indices[0][i] == indices[1][i]]\n",
    "        return pairs\n",
    "    \n",
    "    \n",
    "        "
   ]
  },
  {
   "cell_type": "code",
   "execution_count": null,
   "metadata": {
    "collapsed": true
   },
   "outputs": [],
   "source": []
  }
 ],
 "metadata": {
  "kernelspec": {
   "display_name": "Python 3",
   "language": "python",
   "name": "python3"
  },
  "language_info": {
   "codemirror_mode": {
    "name": "ipython",
    "version": 3
   },
   "file_extension": ".py",
   "mimetype": "text/x-python",
   "name": "python",
   "nbconvert_exporter": "python",
   "pygments_lexer": "ipython3",
   "version": "3.5.5"
  }
 },
 "nbformat": 4,
 "nbformat_minor": 2
}
