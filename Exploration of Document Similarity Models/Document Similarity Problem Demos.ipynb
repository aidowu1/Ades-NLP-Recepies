{
 "cells": [
  {
   "cell_type": "markdown",
   "metadata": {},
   "source": [
    "## Document Similarity Problem Demos"
   ]
  },
  {
   "cell_type": "markdown",
   "metadata": {},
   "source": [
    "## Imports"
   ]
  },
  {
   "cell_type": "code",
   "execution_count": 3,
   "metadata": {
    "collapsed": true
   },
   "outputs": [],
   "source": [
    "import pandas as pd\n",
    "import numpy as np\n",
    "import os\n",
    "import GenericDataSerializerComponent as s"
   ]
  },
  {
   "cell_type": "markdown",
   "metadata": {},
   "source": [
    "### Specify contants and variables"
   ]
  },
  {
   "cell_type": "code",
   "execution_count": 5,
   "metadata": {
    "collapsed": true
   },
   "outputs": [],
   "source": [
    "DATA_ROOT_PATH = 'Data'\n",
    "TALENT36T_VACANCY_ID_36_DATA = [os.path.join(DATA_ROOT_PATH, 'Employee_doc_store.csv'),\n",
    "                                os.path.join(DATA_ROOT_PATH, 'Employer_doc_store.csv')]\n",
    "SAMPLE_PROBLEM_DATASET_PATHS = {\n",
    "                    'Toy_Problem':os.path.join(DATA_ROOT_PATH, 'Book_List_Dataset.pl'),\n",
    "                    'Talent36T':TALENT36T_VACANCY_ID_36_DATA    \n",
    "                }"
   ]
  },
  {
   "cell_type": "code",
   "execution_count": 8,
   "metadata": {
    "collapsed": true
   },
   "outputs": [],
   "source": [
    "class ToyProblem(object):\n",
    "    def __init__(self):\n",
    "        self.__num_docs = -1\n",
    "    \n",
    "    def getCorpus(self):\n",
    "        \"\"\"\n",
    "        Get the corpus data for this problem\n",
    "        \"\"\"\n",
    "        toy_problem_data = s.GenericDataSerializer.deSerializeCache(SAMPLE_PROBLEM_DATASET_PATHS['Toy_Problem'])\n",
    "        self.__num_docs = len(toy_problem_data)\n",
    "        print(\"Number of rows for the Toy Problem data are: {}\".format(self.__num_docs))\n",
    "        return toy_problem_data\n",
    "    \n",
    "    def createLowerTriangular(self):\n",
    "        \"\"\"\n",
    "        Create triangular matrix indices pairs for the similarity measure\n",
    "        \"\"\"\n",
    "        matrix = np.zeros((self.__num_docs, self.__num_docs))\n",
    "        indices = np.tril_indices_from(matrix)\n",
    "        n_rows = indices[0].shape[0]\n",
    "        pairs = [(indices[0][i], indices[1][i]) for i in range(n_rows) if not indices[0][i] == indices[1][i]]\n",
    "        return pairs\n",
    "    \n",
    "    \n",
    "        "
   ]
  },
  {
   "cell_type": "code",
   "execution_count": null,
   "metadata": {
    "collapsed": true
   },
   "outputs": [],
   "source": []
  },
  {
   "cell_type": "code",
   "execution_count": null,
   "metadata": {
    "collapsed": true
   },
   "outputs": [],
   "source": [
    "import numpy as np; np.random.seed(0)\n",
    "import seaborn as sns; sns.set()\n",
    "import matplotlib.pyplot as plt\n",
    "%matplotlib inline"
   ]
  },
  {
   "cell_type": "code",
   "execution_count": 19,
   "metadata": {
    "collapsed": false
   },
   "outputs": [
    {
     "data": {
      "image/png": "[encoded data removed]",
      "text/plain": [
       "<Figure size 432x288 with 2 Axes>"
      ]
     },
     "metadata": {
      "needs_background": "light"
     },
     "output_type": "display_data"
    }
   ],
   "source": [
    "def plotSimilarityMatrix(similarity_scores)\n",
    "    ax = sns.heatmap(uniform_data)\n",
    "    plt.show()\n"
   ]
  },
  {
   "cell_type": "code",
   "execution_count": 9,
   "metadata": {
    "collapsed": false
   },
   "outputs": [
    {
     "data": {
      "text/plain": [
       "array([0.5488135 , 0.71518937, 0.60276338, 0.54488318, 0.4236548 ,\n",
       "       0.64589411, 0.43758721, 0.891773  , 0.96366276, 0.38344152,\n",
       "       0.52889492, 0.56804456, 0.92559664, 0.07103606, 0.0871293 ,\n",
       "       0.0202184 , 0.83261985, 0.77815675, 0.87001215, 0.46147936,\n",
       "       0.78052918, 0.11827443, 0.63992102, 0.14335329, 0.94466892,\n",
       "       0.52184832, 0.41466194, 0.56843395, 0.0187898 , 0.6176355 ,\n",
       "       0.61209572, 0.616934  , 0.94374808, 0.6818203 , 0.66676672,\n",
       "       0.67063787, 0.21038256, 0.1289263 , 0.31542835, 0.36371077,\n",
       "       0.16130952, 0.65310833, 0.2532916 , 0.46631077, 0.24442559,\n",
       "       0.82099323, 0.09710128, 0.83794491, 0.09609841, 0.12019656,\n",
       "       0.2961402 , 0.11872772, 0.5759465 , 0.9292962 , 0.00469548])"
      ]
     },
     "execution_count": 9,
     "metadata": {},
     "output_type": "execute_result"
    }
   ],
   "source": [
    "#iu1\n",
    "\n",
    "new_uniform_data"
   ]
  },
  {
   "cell_type": "code",
   "execution_count": null,
   "metadata": {
    "collapsed": true
   },
   "outputs": [],
   "source": []
  },
  {
   "cell_type": "code",
   "execution_count": 20,
   "metadata": {
    "collapsed": false
   },
   "outputs": [
    {
     "name": "stdout",
     "output_type": "stream",
     "text": [
      "['alt.atheism',\n",
      " 'comp.graphics',\n",
      " 'comp.os.ms-windows.misc',\n",
      " 'comp.sys.ibm.pc.hardware',\n",
      " 'comp.sys.mac.hardware',\n",
      " 'comp.windows.x',\n",
      " 'misc.forsale',\n",
      " 'rec.autos',\n",
      " 'rec.motorcycles',\n",
      " 'rec.sport.baseball',\n",
      " 'rec.sport.hockey',\n",
      " 'sci.crypt',\n",
      " 'sci.electronics',\n",
      " 'sci.med',\n",
      " 'sci.space',\n",
      " 'soc.religion.christian',\n",
      " 'talk.politics.guns',\n",
      " 'talk.politics.mideast',\n",
      " 'talk.politics.misc',\n",
      " 'talk.religion.misc']\n"
     ]
    }
   ],
   "source": [
    "from sklearn.datasets import fetch_20newsgroups\n",
    "newsgroups_train = fetch_20newsgroups(subset='train')\n",
    "\n",
    "from pprint import pprint\n",
    "pprint(list(newsgroups_train.target_names))"
   ]
  },
  {
   "cell_type": "code",
   "execution_count": 21,
   "metadata": {
    "collapsed": false
   },
   "outputs": [
    {
     "data": {
      "text/plain": [
       "(11314,)"
      ]
     },
     "execution_count": 21,
     "metadata": {},
     "output_type": "execute_result"
    }
   ],
   "source": [
    "newsgroups_train.target.shape"
   ]
  },
  {
   "cell_type": "code",
   "execution_count": 22,
   "metadata": {
    "collapsed": false
   },
   "outputs": [
    {
     "data": {
      "text/plain": [
       "array([ 7,  4,  4,  1, 14, 16, 13,  3,  2,  4])"
      ]
     },
     "execution_count": 22,
     "metadata": {},
     "output_type": "execute_result"
    }
   ],
   "source": [
    "newsgroups_train.target[:10]"
   ]
  },
  {
   "cell_type": "code",
   "execution_count": null,
   "metadata": {
    "collapsed": true
   },
   "outputs": [],
   "source": []
  },
  {
   "cell_type": "code",
   "execution_count": 23,
   "metadata": {
    "collapsed": true
   },
   "outputs": [],
   "source": [
    "categories = ['alt.atheism', 'talk.religion.misc',\n",
    "              'comp.graphics', 'sci.space']\n",
    "newsgroups_train = fetch_20newsgroups(subset='train',\n",
    "                                      categories=categories)"
   ]
  },
  {
   "cell_type": "code",
   "execution_count": 27,
   "metadata": {
    "collapsed": false
   },
   "outputs": [
    {
     "data": {
      "text/plain": [
       "[\"From: rych@festival.ed.ac.uk (R Hawkes)\\nSubject: 3DS: Where did all the texture rules go?\\nLines: 21\\n\\nHi,\\n\\nI've noticed that if you only save a model (with all your mapping planes\\npositioned carefully) to a .3DS file that when you reload it after restarting\\n3DS, they are given a default position and orientation.  But if you save\\nto a .PRJ file their positions/orientation are preserved.  Does anyone\\nknow why this information is not stored in the .3DS file?  Nothing is\\nexplicitly said in the manual about saving texture rules in the .PRJ file. \\nI'd like to be able to read the texture rule information, does anyone have \\nthe format for the .PRJ file?\\n\\nIs the .CEL file format available from somewhere?\\n\\nRych\\n\\n======================================================================\\nRycharde Hawkes\\t\\t\\t\\temail: rych@festival.ed.ac.uk\\nVirtual Environment Laboratory\\nDept. of Psychology\\t\\t\\tTel  : +44 31 650 3426\\nUniv. of Edinburgh\\t\\t\\tFax  : +44 31 667 0150\\n======================================================================\\n\",\n",
       " \"Subject: Re: Biblical Backing of Koresh's 3-02 Tape (Cites enclosed)\\nFrom: kmcvay@oneb.almanac.bc.ca (Ken Mcvay)\\nOrganization: The Old Frog's Almanac\\nLines: 20\\n\\nIn article <20APR199301460499@utarlg.uta.edu> b645zaw@utarlg.uta.edu (stephen) writes:\\n\\n>Seems to me Koresh is yet another messenger that got killed\\n>for the message he carried. (Which says nothing about the \\n\\nSeems to be, barring evidence to the contrary, that Koresh was simply\\nanother deranged fanatic who thought it neccessary to take a whole bunch of\\nfolks with him, children and all, to satisfy his delusional mania. Jim\\nJones, circa 1993.\\n\\n>In the mean time, we sure learned a lot about evil and corruption.\\n>Are you surprised things have gotten that rotten?\\n\\nNope - fruitcakes like Koresh have been demonstrating such evil corruption\\nfor centuries.\\n-- \\nThe Old Frog's Almanac - A Salute to That Old Frog Hisse'f, Ryugen Fisher \\n     (604) 245-3205 (v32) (604) 245-4366 (2400x4) SCO XENIX 2.3.2 GT \\n  Ladysmith, British Columbia, CANADA. Serving Central Vancouver Island  \\nwith public access UseNet and Internet Mail - home to the Holocaust Almanac\\n\",\n",
       " \"From: Mark.Perew@p201.f208.n103.z1.fidonet.org\\nSubject: Re: Comet in Temporary Orbit Around Jupiter?\\nX-Sender: newtout 0.08 Feb 23 1993\\nLines: 15\\n\\nIn a message of <Apr 19 04:55>, jgarland@kean.ucs.mun.ca writes:\\n\\n >In article <1993Apr19.020359.26996@sq.sq.com>, msb@sq.sq.com (Mark Brader) \\n >writes:\\n\\nMB>                                                             So the\\nMB> 1970 figure seems unlikely to actually be anything but a perijove.\\n\\nJG>Sorry, _perijoves_...I'm not used to talking this language.\\n\\nCouldn't we just say periapsis or apoapsis?\\n\\n \\n\\n--- msged 2.07\\n\",\n",
       " 'From: dpw@sei.cmu.edu (David Wood)\\nSubject: Request for Support\\nOrganization: Software Engineering Institute\\nLines: 35\\n\\n\\n\\nI have a request for those who would like to see Charley Wingate\\nrespond to the \"Charley Challenges\" (and judging from my e-mail, there\\nappear to be quite a few of you.)  \\n\\nIt is clear that Mr. Wingate intends to continue to post tangential or\\nunrelated articles while ingoring the Challenges themselves.  Between\\nthe last two re-postings of the Challenges, I noted perhaps a dozen or\\nmore posts by Mr. Wingate, none of which answered a single Challenge.  \\n\\nIt seems unmistakable to me that Mr. Wingate hopes that the questions\\nwill just go away, and he is doing his level best to change the\\nsubject.  Given that this seems a rather common net.theist tactic, I\\nwould like to suggest that we impress upon him our desire for answers,\\nin the following manner:\\n\\n1. Ignore any future articles by Mr. Wingate that do not address the\\nChallenges, until he answers them or explictly announces that he\\nrefuses to do so.\\n\\n--or--\\n\\n2. If you must respond to one of his articles, include within it\\nsomething similar to the following:\\n\\n    \"Please answer the questions posed to you in the Charley Challenges.\"\\n\\nReally, I\\'m not looking to humiliate anyone here, I just want some\\nhonest answers.  You wouldn\\'t think that honesty would be too much to\\nask from a devout Christian, would you?  \\n\\nNevermind, that was a rhetorical question.\\n\\n--Dave Wood\\n',\n",
       " 'From: prb@access.digex.com (Pat)\\nSubject: Conference on Manned Lunar Exploration.  May 7  Crystal City\\nOrganization: Express Access Online Communications, Greenbelt MD USA\\nLines: 9\\nDistribution: na\\nNNTP-Posting-Host: access.digex.net\\n\\n\\nAW&ST  had a brief blurb on a Manned Lunar Exploration confernce\\nMay 7th  at Crystal City Virginia, under the auspices of AIAA.\\n\\nDoes anyone know more about this?  How much, to attend????\\n\\nAnyone want to go?\\n\\npat\\n',\n",
       " 'From: Nanci Ann Miller <nm0w+@andrew.cmu.edu>\\nSubject: Re: Genocide is Caused by Atheism\\nOrganization: Sponsored account, School of Computer Science, Carnegie Mellon, Pittsburgh, PA\\nLines: 27\\nNNTP-Posting-Host: andrew.cmu.edu\\nIn-Reply-To: <1993Apr5.020504.19326@ultb.isc.rit.edu>\\n\\nsnm6394@ultb.isc.rit.edu (S.N. Mozumder ) writes:\\n> More horrible deaths resulted from atheism than anything else.\\n\\nThere are definitely quite a few horrible deaths as the result of both\\natheists AND theists.  I\\'m sure Bobby can list quite a few for the atheist\\nside but fails to recognize that the theists are equally proficient at\\ngenocide.  Perhaps, since I\\'m a bit weak on history, somone here would like\\nto give a list of wars caused/led by theists?  I can think of a few (Hitler\\nclaimed to be a Christian for example) but a more complete list would\\nprobably be more effective in showing Bobby just how absurd his statement\\nis.\\n\\n> Peace,\\n\\nOn a side note, I notice you always sign your posts \"Peace\".  Perhaps you\\nshould take your own advice and leave the atheists in peace with their\\nbeliefs?\\n\\n> Bobby Mozumder\\n\\nNanci\\n\\n.........................................................................\\nIf you know (and are SURE of) the author of this quote, please send me\\nemail (nm0w+@andrew.cmu.edu):\\nLying to ourselves is more deeply ingrained than lying to others.\\n\\n',\n",
       " 'From: Wales.Larrison@ofa123.fidonet.org\\nSubject: Re: Clementine mission name\\nX-Sender: newtout 0.08 Feb 23 1993\\nLines: 27\\n\\nMark Prado\\n  \\n>Please go just one step further:\\n>How has the word \"Clementine\" been associated with mining?\\n  \\nOld pioneer song from the 1850\\'s or so goes as follows:\\n  \\n  \"In a cavern, in a canyon,\\n   Excavating for a mine,\\n   Dwelt a miner, forty-niner,\\n   And his daughter, CLEMENTINE\"\\n  \\nChorus:\\n  \"Oh my darling, Oh my darling,\\n   Oh my darling Clementine.\\n   You are lost and gone forever,\\n   Oh my darling Clementine.\"\\n  \\n I\\'ve also had it explained (but not confirmed from a reliable data\\nsource) that CLEMENTINE is an acronym.  Something like Combined\\nLunar Elemental Mapper Experiment on Extended Non Terrestrial\\nIntercept Near Earth.  Personally, I think that acronym was made up\\nto fit the name (if it really is an acronym).\\n ------------------------------------------------------------------\\n Wales Larrison                           Space Technology Investor\\n\\n--- Maximus 2.01wb\\n',\n",
       " \"From: mjw19@cl.cam.ac.uk (M.J. Williams)\\nSubject: Re: Rumours about 3DO ???\\nKeywords: 3DO ARM QT Compact Video\\nReply-To: mjw19@cl.cam.ac.uk\\nOrganization: The National Society for the Inversion of Cuddly Tigers\\nLines: 32\\nNntp-Posting-Host: earith.cl.cam.ac.uk\\n\\nIn article <2BD07605.18974@news.service.uci.edu> rbarris@orion.oac.uci.edu (Robert C. Barris) writes:\\n>                                                                     We\\n>got to see the unit displaying full-screen movies using the CompactVideo codec\\n>(which was nice, very little blockiness showing clips from Jaws and Backdraft)\\n>... and a very high frame rate to boot (like 30fps).\\n\\nAcorn Replay running on a 25MHz ARM 3 processor (the ARM 3 is about 20% slower\\nthan the ARM 6) does this in software (off a standard CD-ROM). 16 bit colour at\\nabout the same resolution (so what if the computer only has 8 bit colour\\nsupport, real-time dithering too...). The 3D0/O is supposed to have a couple of\\nDSPs - the ARM being used for housekeeping.\\n\\n>I'm not sure how a Centris/20MHz 040 stacks up against the 25 MHz ARM in\\n>the 3DO box. Obviously the ARM is faster, but how much?\\n\\nA 25MHz ARM 6xx should clock around 20 ARM MIPS, say 18 flat out. Depends\\nreally on the surrounding system and whether you are talking ARM6x or ARM6xx\\n(the latter has a cache, and so is essential to run at this kind of speed with\\nslower memory).\\n\\nI'll stop saying things there 'cos I'll hopefully be working for ARM after\\ngraduation...\\n\\nMike\\n\\nPS Don't pay heed to what reps from Philips say; if the 3D0/O doesn't beat the\\n   pants off 3DI then I'll eat this postscript.\\n--\\n____________________________________________________________________________\\n\\\\  /  / Michael Williams                     Part II Computer Science Tripos\\n|\\\\/|\\\\/\\\\ MJW19@phx.cam.ac.uk                          University of Cambridge\\n|  |(__)Cymdeithas Genedlaethol Traddodiad Troi Teigrod Mwythus Ben I Waered\\n\",\n",
       " \"From: henry@zoo.toronto.edu (Henry Spencer)\\nSubject: Re: japanese moon landing?\\nOrganization: U of Toronto Zoology\\nLines: 14\\n\\nIn article <C5Kys1.C6r@panix.com> dannyb@panix.com (Daniel Burstein) writes:\\n>A short story in the newspaper a few days ago made some sort of mention\\n>about how the Japanese, using what sounded like a gravity assist, had just\\n>managed to crash (or crash-land) a package on the moon.\\n\\nTheir Hiten engineering-test mission spent a while in a highly eccentric\\nEarth orbit doing lunar flybys, and then was inserted into lunar orbit\\nusing some very tricky gravity-assist-like maneuvering.  This meant that\\nit would crash on the Moon eventually, since there is no such thing as\\na stable lunar orbit (as far as anyone knows), and I believe I recall\\nhearing recently that it was about to happen.\\n-- \\nAll work is one man's work.             | Henry Spencer @ U of Toronto Zoology\\n                    - Kipling           |  henry@zoo.toronto.edu  utzoo!henry\\n\",\n",
       " \"From: hendrix@oasys.dt.navy.mil (Dane Hendrix)\\nSubject: Processing of stereo images\\nReply-To: hendrix@oasys.dt.navy.mil (Dane Hendrix)\\nOrganization: Code 1542, DTMB, Bethesda, MD\\nLines: 16\\n\\nI'm interested in find out what is involved in processing pairs of \\nstereo photographs.  I have black-and-white photos and would like \\nto obtain surface contours.\\n\\nI'd prefer to do the processing on an SGI, but would be interested\\nin hearing what software/hardware is used for this type of\\nimage processing.\\n\\nPlease email and/or post to comp.sys.sgi.graphics your responses.\\n\\nThanks,\\n\\nDane Hendrix                              | email: dane@wizard.dt.navy.mil \\nDTMB (a.k.a. Headquarters, Carderock Div.,|  or hendrix@oasys.dt.navy.mil\\nNaval Surface Warfare Center)             |  or hendrix@nas.nasa.gov \\nCode 1542, Bethesda, MD 20084-5000        | phone: (301)227-1340\\n\"]"
      ]
     },
     "execution_count": 27,
     "metadata": {},
     "output_type": "execute_result"
    }
   ],
   "source": [
    "newsgroups_train.data[:10]"
   ]
  },
  {
   "cell_type": "code",
   "execution_count": null,
   "metadata": {
    "collapsed": true
   },
   "outputs": [],
   "source": []
  }
 ],
 "metadata": {
  "kernelspec": {
   "display_name": "python3.5",
   "language": "python",
   "name": "python3.5"
  },
  "language_info": {
   "codemirror_mode": {
    "name": "ipython",
    "version": 3
   },
   "file_extension": ".py",
   "mimetype": "text/x-python",
   "name": "python",
   "nbconvert_exporter": "python",
   "pygments_lexer": "ipython3",
   "version": "3.7.3"
  }
 },
 "nbformat": 4,
 "nbformat_minor": 2
}
